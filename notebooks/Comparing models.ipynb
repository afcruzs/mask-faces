{
 "cells": [
  {
   "cell_type": "code",
   "execution_count": 2,
   "metadata": {},
   "outputs": [
    {
     "name": "stderr",
     "output_type": "stream",
     "text": [
      "Using TensorFlow backend.\n"
     ]
    }
   ],
   "source": [
    "%load_ext autoreload\n",
    "%autoreload 2\n",
    "\n",
    "import sys\n",
    "sys.path.append(\"..\") # Adds higher directory to python modules path.\n",
    "\n",
    "from detect.detectors import mtcnn_simple_cnn\n",
    "from detect.compute_map import compute_map_from_dataset"
   ]
  },
  {
   "cell_type": "code",
   "execution_count": 4,
   "metadata": {},
   "outputs": [],
   "source": [
    "data_path = '../../od-masks-dataset/od-masks-dev'\n",
    "weights_path = '../weights/model-best.h5'"
   ]
  },
  {
   "cell_type": "code",
   "execution_count": 9,
   "metadata": {},
   "outputs": [],
   "source": [
    "masks_detector = mtcnn_simple_cnn(weights_path, object_detector_confidence=0.8)"
   ]
  },
  {
   "cell_type": "code",
   "execution_count": 3,
   "metadata": {},
   "outputs": [
    {
     "name": "stderr",
     "output_type": "stream",
     "text": [
      "2020-05-30 22:03:00,373 [INFO] 0 ../../od-masks-dataset/od-masks-dev\\AboA_00274_m_33_i_fr_nc_no_2016_2_e0_nl_o.jpg\n",
      "2020-05-30 22:03:18,158 [INFO] 100 ../../od-masks-dataset/od-masks-dev\\AboA_00280_m_33_i_fr_nc_sr_2016_2_e0_Gn_m.jpg\n",
      "2020-05-30 22:03:29,891 [INFO] 200 ../../od-masks-dataset/od-masks-dev\\AboA_00286_m_33_i_fr_nc_sr_2016_2_e0_Gn_e.jpg\n",
      "2020-05-30 22:04:00,849 [INFO] 300 ../../od-masks-dataset/od-masks-dev\\AheG_00290_m_23_i_nf_nc_no_2008_1_e0_Ps_m.jpg\n",
      "2020-05-30 22:04:16,390 [INFO] 400 ../../od-masks-dataset/od-masks-dev\\AheG_00293_m_31_o_fr_nc_no_2016_1_en_nl_m.jpg\n",
      "2020-05-30 22:04:35,800 [INFO] 500 ../../od-masks-dataset/od-masks-dev\\AhmA_00297_m_56_o_fr_nc_no_2014_1_e0_Ps_e.jpg\n",
      "2020-05-30 22:04:51,223 [INFO] 600 ../../od-masks-dataset/od-masks-dev\\AhmA_00300_m_57_o_nf_nc_no_2015_1_e0_Ps_m.jpg\n",
      "2020-05-30 22:05:10,250 [INFO] 700 ../../od-masks-dataset/od-masks-dev\\AhmB_00303_m_28_i_nf_nc_sd_2015_1_em_nl_h.jpg\n",
      "2020-05-30 22:05:42,676 [INFO] 800 ../../od-masks-dataset/od-masks-dev\\AhmB_00306_m_29_i_nf_nc_no_2016_1_en_nl_e.jpg\n",
      "2020-05-30 22:06:05,710 [INFO] 900 ../../od-masks-dataset/od-masks-dev\\AhmB_00309_m_29_i_nf_nc_hp_2016_1_en_nl_m.jpg\n",
      "2020-05-30 22:06:26,424 [INFO] 1000 ../../od-masks-dataset/od-masks-dev\\AhmE_00313_m_24_o_nf_nc_no_2012_1_e0_Gn_h.jpg\n",
      "2020-05-30 22:06:53,721 [INFO] 1100 ../../od-masks-dataset/od-masks-dev\\AhmG_00316_m_19_i_fr_nc_no_2015_1_e0_Gs_e.jpg\n",
      "2020-05-30 22:07:24,701 [INFO] 1200 ../../od-masks-dataset/od-masks-dev\\AhmG_00319_m_19_o_fr_nc_no_2015_1_e0_Gs_m.jpg\n",
      "2020-05-30 22:07:45,042 [INFO] 1300 ../../od-masks-dataset/od-masks-dev\\AhmG_00322_m_19_i_fr_nc_no_2015_1_e0_Ps_e.jpg\n",
      "2020-05-30 22:08:09,088 [INFO] 1400 ../../od-masks-dataset/od-masks-dev\\AhmH_00325_m_19_i_nf_nc_no_2015_1_e0_Ps_m.jpg\n",
      "2020-05-30 22:08:44,302 [INFO] 1500 ../../od-masks-dataset/od-masks-dev\\AhmI_00329_m_24_i_nf_nc_no_2013_1_e0_Gn_m.jpg\n",
      "2020-05-30 22:09:16,563 [INFO] 1600 ../../od-masks-dataset/od-masks-dev\\AhmK_00332_m_25_o_fr_nc_hp_2013_1_e0_Gs_h.jpg\n",
      "2020-05-30 22:09:43,767 [INFO] 1700 ../../od-masks-dataset/od-masks-dev\\AhmM_00335_m_19_i_fr_nc_no_2015_1_e0_nl_o.jpg\n",
      "2020-05-30 22:10:08,138 [INFO] 1800 ../../od-masks-dataset/od-masks-dev\\AhmM_00338_m_19_i_fr_nc_no_2015_1_e0_Ps_h.jpg\n",
      "2020-05-30 22:10:34,150 [INFO] 1900 ../../od-masks-dataset/od-masks-dev\\AhmM_00341_m_19_o_nf_nc_no_2015_1_em_nl_m.jpg\n",
      "2020-05-30 22:11:00,451 [INFO] 2000 ../../od-masks-dataset/od-masks-dev\\AhmN_00346_m_27_o_fr_nc_no_2010_1_e0_Gs_h.jpg\n",
      "2020-05-30 22:11:19,742 [INFO] 2100 ../../od-masks-dataset/od-masks-dev\\AhmN_00349_m_27_o_nf_nc_no_2010_1_e0_Ps_h.jpg\n",
      "2020-05-30 22:11:42,356 [INFO] 2200 ../../od-masks-dataset/od-masks-dev\\AhmS_00352_m_20_o_nf_nc_hp_2015_1_em_nl_e.jpg\n",
      "2020-05-30 22:12:03,421 [INFO] 2300 ../../od-masks-dataset/od-masks-dev\\AhmS_00355_m_20_i_fr_nc_no_2015_1_em_nl_m.jpg\n",
      "2020-05-30 22:12:25,538 [INFO] 2400 ../../od-masks-dataset/od-masks-dev\\AhmZ_00358_m_21_i_fr_nc_no_2015_1_en_nl_h.jpg\n",
      "2020-05-30 22:12:50,962 [INFO] 2500 ../../od-masks-dataset/od-masks-dev\\AhmZ_00362_m_21_i_fr_nc_no_2015_1_e0_Gn_m.jpg\n",
      "2020-05-30 22:13:13,546 [INFO] 2600 ../../od-masks-dataset/od-masks-dev\\AhmZ_00365_m_21_i_fr_nc_no_2015_1_e0_Gs_m.jpg\n",
      "2020-05-30 22:13:33,093 [INFO] 2700 ../../od-masks-dataset/od-masks-dev\\AlaG_00370_m_32_i_nf_nc_no_2016_2_e0_Ps_e.jpg\n",
      "2020-05-30 22:13:54,979 [INFO] 2800 ../../od-masks-dataset/od-masks-dev\\AlaG_00374_m_32_i_fr_nc_hp_2016_2_e0_nl_o.jpg\n",
      "2020-05-30 22:14:16,144 [INFO] 2900 ../../od-masks-dataset/od-masks-dev\\AlaG_00379_m_32_i_fr_nc_hp_2016_2_em_nl_e.jpg\n",
      "2020-05-30 22:14:29,600 [INFO] 3000 ../../od-masks-dataset/od-masks-dev\\AlaG_00384_m_32_i_fr_nc_sr_2016_2_e0_Gs_e.jpg\n",
      "2020-05-30 22:14:43,980 [INFO] 3100 ../../od-masks-dataset/od-masks-dev\\AlaG_00388_m_32_i_fr_nc_sr_2016_2_em_nl_m.jpg\n",
      "2020-05-30 22:15:09,107 [INFO] 3200 ../../od-masks-dataset/od-masks-dev\\AlaG_00393_m_32_i_nf_nc_hp_2016_2_e0_Gn_m.jpg\n",
      "2020-05-30 22:15:29,486 [INFO] 3300 ../../od-masks-dataset/od-masks-dev\\AlaG_00397_m_32_i_nf_nc_no_2016_2_en_nl_e.jpg\n",
      "2020-05-30 22:15:51,594 [INFO] 3400 ../../od-masks-dataset/od-masks-dev\\AlaG_00401_m_32_i_fr_nc_no_2016_2_en_nl_e.jpg\n",
      "2020-05-30 22:16:07,602 [INFO] 3500 ../../od-masks-dataset/od-masks-dev\\AlaG_00406_m_32_i_fr_nc_no_2016_2_e0_Gn_h.jpg\n",
      "2020-05-30 22:16:23,523 [INFO] 3600 ../../od-masks-dataset/od-masks-dev\\AlaG_00409_m_32_i_fr_nc_no_2016_2_e0_Gs_h.jpg\n",
      "2020-05-30 22:16:39,587 [INFO] 3700 ../../od-masks-dataset/od-masks-dev\\AlaG_00413_m_32_i_fr_nc_no_2016_2_e0_Gs_e.jpg\n",
      "2020-05-30 22:16:56,141 [INFO] 3800 ../../od-masks-dataset/od-masks-dev\\AlaG_00417_m_32_i_fr_nc_hp_2016_2_e0_Gs_m.jpg\n",
      "2020-05-30 22:17:18,084 [INFO] 3900 ../../od-masks-dataset/od-masks-dev\\AlaG_00420_m_32_i_fr_nc_hp_2016_2_em_nl_h.jpg\n",
      "2020-05-30 22:17:49,539 [INFO] 4000 ../../od-masks-dataset/od-masks-dev\\AlaG_00424_m_32_i_fr_nc_hp_2016_2_en_nl_m.jpg\n",
      "2020-05-30 22:18:16,112 [INFO] 4100 ../../od-masks-dataset/od-masks-dev\\AlaG_00429_m_32_i_fr_nc_sr_2016_2_e0_Gs_h.jpg\n",
      "2020-05-30 22:18:33,109 [INFO] 4200 ../../od-masks-dataset/od-masks-dev\\AlaG_00433_m_32_i_fr_nc_sr_2016_2_e0_Gn_h.jpg\n",
      "2020-05-30 22:18:47,824 [INFO] 4300 ../../od-masks-dataset/od-masks-dev\\AlaG_00436_m_32_i_fr_nc_no_2016_2_em_nl_e.jpg\n",
      "2020-05-30 22:19:05,467 [INFO] 4400 ../../od-masks-dataset/od-masks-dev\\AlaG_00440_m_32_i_nf_nc_no_2016_2_em_nl_e.jpg\n",
      "2020-05-30 22:19:28,254 [INFO] 4500 ../../od-masks-dataset/od-masks-dev\\test_00000034.jpg\n",
      "2020-05-30 22:19:52,033 [INFO] 4600 ../../od-masks-dataset/od-masks-dev\\test_00000084.jpg\n",
      "2020-05-30 22:20:12,029 [INFO] 4700 ../../od-masks-dataset/od-masks-dev\\test_00000134.jpg\n",
      "2020-05-30 22:20:24,744 [INFO] 4800 ../../od-masks-dataset/od-masks-dev\\test_00000184.jpg\n",
      "2020-05-30 22:20:36,334 [INFO] 4900 ../../od-masks-dataset/od-masks-dev\\test_00000234.jpg\n",
      "2020-05-30 22:20:51,992 [INFO] 5000 ../../od-masks-dataset/od-masks-dev\\test_00000284.jpg\n",
      "2020-05-30 22:21:06,476 [INFO] 5100 ../../od-masks-dataset/od-masks-dev\\test_00000334.jpg\n",
      "2020-05-30 22:21:17,423 [INFO] 5200 ../../od-masks-dataset/od-masks-dev\\test_00000384.jpg\n",
      "2020-05-30 22:21:36,147 [INFO] 5300 ../../od-masks-dataset/od-masks-dev\\test_00000434.jpg\n",
      "2020-05-30 22:22:03,444 [INFO] 5400 ../../od-masks-dataset/od-masks-dev\\test_00000484.jpg\n",
      "2020-05-30 22:22:25,502 [INFO] 5500 ../../od-masks-dataset/od-masks-dev\\test_00000534.jpg\n",
      "2020-05-30 22:22:45,196 [INFO] 5600 ../../od-masks-dataset/od-masks-dev\\test_00000584.jpg\n",
      "2020-05-30 22:23:06,878 [INFO] 5700 ../../od-masks-dataset/od-masks-dev\\test_00000634.jpg\n",
      "2020-05-30 22:23:39,919 [INFO] 5800 ../../od-masks-dataset/od-masks-dev\\test_00000684.jpg\n",
      "2020-05-30 22:24:11,870 [INFO] 5900 ../../od-masks-dataset/od-masks-dev\\test_00000734.jpg\n",
      "2020-05-30 22:24:48,560 [INFO] 6000 ../../od-masks-dataset/od-masks-dev\\test_00000784.jpg\n",
      "2020-05-30 22:25:15,945 [INFO] 6100 ../../od-masks-dataset/od-masks-dev\\test_00000834.jpg\n",
      "2020-05-30 22:25:51,014 [INFO] 6200 ../../od-masks-dataset/od-masks-dev\\test_00000884.jpg\n",
      "2020-05-30 22:26:15,949 [INFO] 6300 ../../od-masks-dataset/od-masks-dev\\test_00000934.jpg\n",
      "2020-05-30 22:26:39,761 [INFO] 6400 ../../od-masks-dataset/od-masks-dev\\test_00000984.jpg\n",
      "2020-05-30 22:27:00,957 [INFO] 6500 ../../od-masks-dataset/od-masks-dev\\test_00001034.jpg\n",
      "2020-05-30 22:27:42,069 [INFO] 6600 ../../od-masks-dataset/od-masks-dev\\test_00001084.jpg\n",
      "2020-05-30 22:28:12,891 [INFO] 6700 ../../od-masks-dataset/od-masks-dev\\test_00001134.jpg\n",
      "2020-05-30 22:28:43,636 [INFO] 6800 ../../od-masks-dataset/od-masks-dev\\test_00001184.jpg\n",
      "2020-05-30 22:29:02,176 [INFO] 6900 ../../od-masks-dataset/od-masks-dev\\test_00001234.jpg\n",
      "2020-05-30 22:29:20,717 [INFO] 7000 ../../od-masks-dataset/od-masks-dev\\test_00001284.jpg\n",
      "2020-05-30 22:29:40,037 [INFO] 7100 ../../od-masks-dataset/od-masks-dev\\test_00001334.jpg\n",
      "2020-05-30 22:30:01,598 [INFO] 7200 ../../od-masks-dataset/od-masks-dev\\test_00001384.jpg\n",
      "2020-05-30 22:30:24,172 [INFO] 7300 ../../od-masks-dataset/od-masks-dev\\test_00001434.jpg\n",
      "2020-05-30 22:30:46,639 [INFO] 7400 ../../od-masks-dataset/od-masks-dev\\test_00001484.jpg\n",
      "2020-05-30 22:31:03,438 [INFO] 7500 ../../od-masks-dataset/od-masks-dev\\test_00001534.jpg\n",
      "2020-05-30 22:31:18,585 [INFO] 7600 ../../od-masks-dataset/od-masks-dev\\test_00001584.jpg\n",
      "2020-05-30 22:31:30,858 [INFO] 7700 ../../od-masks-dataset/od-masks-dev\\test_00001634.jpg\n"
     ]
    },
    {
     "name": "stderr",
     "output_type": "stream",
     "text": [
      "2020-05-30 22:31:44,180 [INFO] 7800 ../../od-masks-dataset/od-masks-dev\\test_00001684.jpg\n",
      "2020-05-30 22:31:58,311 [INFO] 7900 ../../od-masks-dataset/od-masks-dev\\test_00001734.jpg\n",
      "2020-05-30 22:32:12,564 [INFO] 8000 ../../od-masks-dataset/od-masks-dev\\test_00001784.jpg\n",
      "2020-05-30 22:32:28,508 [INFO] 8100 ../../od-masks-dataset/od-masks-dev\\test_00001834.jpg\n",
      "2020-05-30 22:32:40,877 [INFO] 8200 ../../od-masks-dataset/od-masks-dev\\test_00001884.jpg\n",
      "2020-05-30 22:32:54,579 [INFO] 8300 ../../od-masks-dataset/od-masks-dev\\test_00001934.jpg\n",
      "2020-05-30 22:33:08,835 [INFO] 8400 ../../od-masks-dataset/od-masks-dev\\test_00001984.jpg\n",
      "2020-05-30 22:33:23,623 [INFO] 8500 ../../od-masks-dataset/od-masks-dev\\test_00002034.jpg\n",
      "2020-05-30 22:33:38,095 [INFO] 8600 ../../od-masks-dataset/od-masks-dev\\test_00002084.jpg\n",
      "2020-05-30 22:33:51,769 [INFO] 8700 ../../od-masks-dataset/od-masks-dev\\test_00002134.jpg\n",
      "2020-05-30 22:34:14,183 [INFO] 8800 ../../od-masks-dataset/od-masks-dev\\test_00002184.jpg\n"
     ]
    },
    {
     "name": "stdout",
     "output_type": "stream",
     "text": [
      "0.7138816489440547\n"
     ]
    }
   ],
   "source": [
    "print(compute_map_from_dataset(data_path, masks_detector, iou_threshold=0.5, verbose=1))"
   ]
  },
  {
   "cell_type": "code",
   "execution_count": 19,
   "metadata": {},
   "outputs": [],
   "source": [
    "import cv2\n",
    "from detect.yolo.darknet_model import DarknetModel"
   ]
  },
  {
   "cell_type": "code",
   "execution_count": 20,
   "metadata": {},
   "outputs": [],
   "source": [
    "configPath = \"../../darknet-ab/cfg/yolov3-tiny-masks-small.cfg\"\n",
    "weightPath = \"../../darknet-ab/backup-20000/yolov3-tiny-masks-small_last.weights\"\n",
    "metaPath = \"faces-20000.data\"\n",
    "\n",
    "model = DarknetModel(configPath, weightPath, metaPath)"
   ]
  },
  {
   "cell_type": "code",
   "execution_count": 21,
   "metadata": {},
   "outputs": [
    {
     "name": "stderr",
     "output_type": "stream",
     "text": [
      "2020-05-31 00:52:00,362 [INFO] 0 ../../od-masks-dataset/od-masks-dev\\AboA_00274_m_33_i_fr_nc_no_2016_2_e0_nl_o.jpg\n",
      "2020-05-31 00:52:03,923 [INFO] 100 ../../od-masks-dataset/od-masks-dev\\AboA_00280_m_33_i_fr_nc_sr_2016_2_e0_Gn_m.jpg\n",
      "2020-05-31 00:52:07,464 [INFO] 200 ../../od-masks-dataset/od-masks-dev\\AboA_00286_m_33_i_fr_nc_sr_2016_2_e0_Gn_e.jpg\n",
      "2020-05-31 00:52:11,010 [INFO] 300 ../../od-masks-dataset/od-masks-dev\\AheG_00290_m_23_i_nf_nc_no_2008_1_e0_Ps_m.jpg\n",
      "2020-05-31 00:52:14,640 [INFO] 400 ../../od-masks-dataset/od-masks-dev\\AheG_00293_m_31_o_fr_nc_no_2016_1_en_nl_m.jpg\n",
      "2020-05-31 00:52:18,189 [INFO] 500 ../../od-masks-dataset/od-masks-dev\\AhmA_00297_m_56_o_fr_nc_no_2014_1_e0_Ps_e.jpg\n",
      "2020-05-31 00:52:21,704 [INFO] 600 ../../od-masks-dataset/od-masks-dev\\AhmA_00300_m_57_o_nf_nc_no_2015_1_e0_Ps_m.jpg\n",
      "2020-05-31 00:52:25,225 [INFO] 700 ../../od-masks-dataset/od-masks-dev\\AhmB_00303_m_28_i_nf_nc_sd_2015_1_em_nl_h.jpg\n",
      "2020-05-31 00:52:28,751 [INFO] 800 ../../od-masks-dataset/od-masks-dev\\AhmB_00306_m_29_i_nf_nc_no_2016_1_en_nl_e.jpg\n",
      "2020-05-31 00:52:32,313 [INFO] 900 ../../od-masks-dataset/od-masks-dev\\AhmB_00309_m_29_i_nf_nc_hp_2016_1_en_nl_m.jpg\n",
      "2020-05-31 00:52:35,980 [INFO] 1000 ../../od-masks-dataset/od-masks-dev\\AhmE_00313_m_24_o_nf_nc_no_2012_1_e0_Gn_h.jpg\n",
      "2020-05-31 00:52:39,553 [INFO] 1100 ../../od-masks-dataset/od-masks-dev\\AhmG_00316_m_19_i_fr_nc_no_2015_1_e0_Gs_e.jpg\n",
      "2020-05-31 00:52:43,197 [INFO] 1200 ../../od-masks-dataset/od-masks-dev\\AhmG_00319_m_19_o_fr_nc_no_2015_1_e0_Gs_m.jpg\n",
      "2020-05-31 00:52:46,769 [INFO] 1300 ../../od-masks-dataset/od-masks-dev\\AhmG_00322_m_19_i_fr_nc_no_2015_1_e0_Ps_e.jpg\n",
      "2020-05-31 00:52:50,346 [INFO] 1400 ../../od-masks-dataset/od-masks-dev\\AhmH_00325_m_19_i_nf_nc_no_2015_1_e0_Ps_m.jpg\n",
      "2020-05-31 00:52:53,903 [INFO] 1500 ../../od-masks-dataset/od-masks-dev\\AhmI_00329_m_24_i_nf_nc_no_2013_1_e0_Gn_m.jpg\n",
      "2020-05-31 00:52:57,466 [INFO] 1600 ../../od-masks-dataset/od-masks-dev\\AhmK_00332_m_25_o_fr_nc_hp_2013_1_e0_Gs_h.jpg\n",
      "2020-05-31 00:53:01,079 [INFO] 1700 ../../od-masks-dataset/od-masks-dev\\AhmM_00335_m_19_i_fr_nc_no_2015_1_e0_nl_o.jpg\n",
      "2020-05-31 00:53:04,679 [INFO] 1800 ../../od-masks-dataset/od-masks-dev\\AhmM_00338_m_19_i_fr_nc_no_2015_1_e0_Ps_h.jpg\n",
      "2020-05-31 00:53:08,258 [INFO] 1900 ../../od-masks-dataset/od-masks-dev\\AhmM_00341_m_19_o_nf_nc_no_2015_1_em_nl_m.jpg\n",
      "2020-05-31 00:53:11,907 [INFO] 2000 ../../od-masks-dataset/od-masks-dev\\AhmN_00346_m_27_o_fr_nc_no_2010_1_e0_Gs_h.jpg\n",
      "2020-05-31 00:53:15,487 [INFO] 2100 ../../od-masks-dataset/od-masks-dev\\AhmN_00349_m_27_o_nf_nc_no_2010_1_e0_Ps_h.jpg\n",
      "2020-05-31 00:53:19,117 [INFO] 2200 ../../od-masks-dataset/od-masks-dev\\AhmS_00352_m_20_o_nf_nc_hp_2015_1_em_nl_e.jpg\n",
      "2020-05-31 00:53:22,740 [INFO] 2300 ../../od-masks-dataset/od-masks-dev\\AhmS_00355_m_20_i_fr_nc_no_2015_1_em_nl_m.jpg\n",
      "2020-05-31 00:53:26,347 [INFO] 2400 ../../od-masks-dataset/od-masks-dev\\AhmZ_00358_m_21_i_fr_nc_no_2015_1_en_nl_h.jpg\n",
      "2020-05-31 00:53:30,040 [INFO] 2500 ../../od-masks-dataset/od-masks-dev\\AhmZ_00362_m_21_i_fr_nc_no_2015_1_e0_Gn_m.jpg\n",
      "2020-05-31 00:53:33,655 [INFO] 2600 ../../od-masks-dataset/od-masks-dev\\AhmZ_00365_m_21_i_fr_nc_no_2015_1_e0_Gs_m.jpg\n",
      "2020-05-31 00:53:37,293 [INFO] 2700 ../../od-masks-dataset/od-masks-dev\\AlaG_00370_m_32_i_nf_nc_no_2016_2_e0_Ps_e.jpg\n",
      "2020-05-31 00:53:40,868 [INFO] 2800 ../../od-masks-dataset/od-masks-dev\\AlaG_00374_m_32_i_fr_nc_hp_2016_2_e0_nl_o.jpg\n",
      "2020-05-31 00:53:44,506 [INFO] 2900 ../../od-masks-dataset/od-masks-dev\\AlaG_00379_m_32_i_fr_nc_hp_2016_2_em_nl_e.jpg\n",
      "2020-05-31 00:53:48,105 [INFO] 3000 ../../od-masks-dataset/od-masks-dev\\AlaG_00384_m_32_i_fr_nc_sr_2016_2_e0_Gs_e.jpg\n",
      "2020-05-31 00:53:51,704 [INFO] 3100 ../../od-masks-dataset/od-masks-dev\\AlaG_00388_m_32_i_fr_nc_sr_2016_2_em_nl_m.jpg\n",
      "2020-05-31 00:53:55,290 [INFO] 3200 ../../od-masks-dataset/od-masks-dev\\AlaG_00393_m_32_i_nf_nc_hp_2016_2_e0_Gn_m.jpg\n",
      "2020-05-31 00:53:58,906 [INFO] 3300 ../../od-masks-dataset/od-masks-dev\\AlaG_00397_m_32_i_nf_nc_no_2016_2_en_nl_e.jpg\n",
      "2020-05-31 00:54:02,522 [INFO] 3400 ../../od-masks-dataset/od-masks-dev\\AlaG_00401_m_32_i_fr_nc_no_2016_2_en_nl_e.jpg\n",
      "2020-05-31 00:54:06,134 [INFO] 3500 ../../od-masks-dataset/od-masks-dev\\AlaG_00406_m_32_i_fr_nc_no_2016_2_e0_Gn_h.jpg\n",
      "2020-05-31 00:54:09,765 [INFO] 3600 ../../od-masks-dataset/od-masks-dev\\AlaG_00409_m_32_i_fr_nc_no_2016_2_e0_Gs_h.jpg\n",
      "2020-05-31 00:54:13,390 [INFO] 3700 ../../od-masks-dataset/od-masks-dev\\AlaG_00413_m_32_i_fr_nc_no_2016_2_e0_Gs_e.jpg\n",
      "2020-05-31 00:54:17,087 [INFO] 3800 ../../od-masks-dataset/od-masks-dev\\AlaG_00417_m_32_i_fr_nc_hp_2016_2_e0_Gs_m.jpg\n",
      "2020-05-31 00:54:20,728 [INFO] 3900 ../../od-masks-dataset/od-masks-dev\\AlaG_00420_m_32_i_fr_nc_hp_2016_2_em_nl_h.jpg\n",
      "2020-05-31 00:54:24,420 [INFO] 4000 ../../od-masks-dataset/od-masks-dev\\AlaG_00424_m_32_i_fr_nc_hp_2016_2_en_nl_m.jpg\n",
      "2020-05-31 00:54:28,068 [INFO] 4100 ../../od-masks-dataset/od-masks-dev\\AlaG_00429_m_32_i_fr_nc_sr_2016_2_e0_Gs_h.jpg\n",
      "2020-05-31 00:54:31,892 [INFO] 4200 ../../od-masks-dataset/od-masks-dev\\AlaG_00433_m_32_i_fr_nc_sr_2016_2_e0_Gn_h.jpg\n",
      "2020-05-31 00:54:35,606 [INFO] 4300 ../../od-masks-dataset/od-masks-dev\\AlaG_00436_m_32_i_fr_nc_no_2016_2_em_nl_e.jpg\n",
      "2020-05-31 00:54:39,385 [INFO] 4400 ../../od-masks-dataset/od-masks-dev\\AlaG_00440_m_32_i_nf_nc_no_2016_2_em_nl_e.jpg\n",
      "2020-05-31 00:54:43,393 [INFO] 4500 ../../od-masks-dataset/od-masks-dev\\test_00000034.jpg\n",
      "2020-05-31 00:54:47,989 [INFO] 4600 ../../od-masks-dataset/od-masks-dev\\test_00000084.jpg\n",
      "2020-05-31 00:54:51,918 [INFO] 4700 ../../od-masks-dataset/od-masks-dev\\test_00000134.jpg\n",
      "2020-05-31 00:54:55,686 [INFO] 4800 ../../od-masks-dataset/od-masks-dev\\test_00000184.jpg\n",
      "2020-05-31 00:54:59,367 [INFO] 4900 ../../od-masks-dataset/od-masks-dev\\test_00000234.jpg\n",
      "2020-05-31 00:55:03,050 [INFO] 5000 ../../od-masks-dataset/od-masks-dev\\test_00000284.jpg\n",
      "2020-05-31 00:55:06,718 [INFO] 5100 ../../od-masks-dataset/od-masks-dev\\test_00000334.jpg\n",
      "2020-05-31 00:55:10,438 [INFO] 5200 ../../od-masks-dataset/od-masks-dev\\test_00000384.jpg\n",
      "2020-05-31 00:55:14,452 [INFO] 5300 ../../od-masks-dataset/od-masks-dev\\test_00000434.jpg\n",
      "2020-05-31 00:55:18,509 [INFO] 5400 ../../od-masks-dataset/od-masks-dev\\test_00000484.jpg\n",
      "2020-05-31 00:55:22,547 [INFO] 5500 ../../od-masks-dataset/od-masks-dev\\test_00000534.jpg\n",
      "2020-05-31 00:55:26,429 [INFO] 5600 ../../od-masks-dataset/od-masks-dev\\test_00000584.jpg\n",
      "2020-05-31 00:55:30,329 [INFO] 5700 ../../od-masks-dataset/od-masks-dev\\test_00000634.jpg\n",
      "2020-05-31 00:55:34,345 [INFO] 5800 ../../od-masks-dataset/od-masks-dev\\test_00000684.jpg\n",
      "2020-05-31 00:55:38,557 [INFO] 5900 ../../od-masks-dataset/od-masks-dev\\test_00000734.jpg\n",
      "2020-05-31 00:55:42,615 [INFO] 6000 ../../od-masks-dataset/od-masks-dev\\test_00000784.jpg\n",
      "2020-05-31 00:55:46,671 [INFO] 6100 ../../od-masks-dataset/od-masks-dev\\test_00000834.jpg\n",
      "2020-05-31 00:55:50,874 [INFO] 6200 ../../od-masks-dataset/od-masks-dev\\test_00000884.jpg\n",
      "2020-05-31 00:55:54,942 [INFO] 6300 ../../od-masks-dataset/od-masks-dev\\test_00000934.jpg\n",
      "2020-05-31 00:55:59,199 [INFO] 6400 ../../od-masks-dataset/od-masks-dev\\test_00000984.jpg\n",
      "2020-05-31 00:56:03,336 [INFO] 6500 ../../od-masks-dataset/od-masks-dev\\test_00001034.jpg\n",
      "2020-05-31 00:56:07,644 [INFO] 6600 ../../od-masks-dataset/od-masks-dev\\test_00001084.jpg\n",
      "2020-05-31 00:56:12,038 [INFO] 6700 ../../od-masks-dataset/od-masks-dev\\test_00001134.jpg\n",
      "2020-05-31 00:56:16,459 [INFO] 6800 ../../od-masks-dataset/od-masks-dev\\test_00001184.jpg\n",
      "2020-05-31 00:56:20,786 [INFO] 6900 ../../od-masks-dataset/od-masks-dev\\test_00001234.jpg\n",
      "2020-05-31 00:56:25,205 [INFO] 7000 ../../od-masks-dataset/od-masks-dev\\test_00001284.jpg\n",
      "2020-05-31 00:56:29,707 [INFO] 7100 ../../od-masks-dataset/od-masks-dev\\test_00001334.jpg\n",
      "2020-05-31 00:56:34,649 [INFO] 7200 ../../od-masks-dataset/od-masks-dev\\test_00001384.jpg\n",
      "2020-05-31 00:56:39,286 [INFO] 7300 ../../od-masks-dataset/od-masks-dev\\test_00001434.jpg\n",
      "2020-05-31 00:56:43,896 [INFO] 7400 ../../od-masks-dataset/od-masks-dev\\test_00001484.jpg\n",
      "2020-05-31 00:56:48,412 [INFO] 7500 ../../od-masks-dataset/od-masks-dev\\test_00001534.jpg\n",
      "2020-05-31 00:56:52,985 [INFO] 7600 ../../od-masks-dataset/od-masks-dev\\test_00001584.jpg\n",
      "2020-05-31 00:56:57,559 [INFO] 7700 ../../od-masks-dataset/od-masks-dev\\test_00001634.jpg\n"
     ]
    },
    {
     "name": "stderr",
     "output_type": "stream",
     "text": [
      "2020-05-31 00:57:02,172 [INFO] 7800 ../../od-masks-dataset/od-masks-dev\\test_00001684.jpg\n",
      "2020-05-31 00:57:06,763 [INFO] 7900 ../../od-masks-dataset/od-masks-dev\\test_00001734.jpg\n",
      "2020-05-31 00:57:11,399 [INFO] 8000 ../../od-masks-dataset/od-masks-dev\\test_00001784.jpg\n",
      "2020-05-31 00:57:15,957 [INFO] 8100 ../../od-masks-dataset/od-masks-dev\\test_00001834.jpg\n",
      "2020-05-31 00:57:20,527 [INFO] 8200 ../../od-masks-dataset/od-masks-dev\\test_00001884.jpg\n",
      "2020-05-31 00:57:25,197 [INFO] 8300 ../../od-masks-dataset/od-masks-dev\\test_00001934.jpg\n",
      "2020-05-31 00:57:29,761 [INFO] 8400 ../../od-masks-dataset/od-masks-dev\\test_00001984.jpg\n",
      "2020-05-31 00:57:34,330 [INFO] 8500 ../../od-masks-dataset/od-masks-dev\\test_00002034.jpg\n",
      "2020-05-31 00:57:38,906 [INFO] 8600 ../../od-masks-dataset/od-masks-dev\\test_00002084.jpg\n",
      "2020-05-31 00:57:43,499 [INFO] 8700 ../../od-masks-dataset/od-masks-dev\\test_00002134.jpg\n",
      "2020-05-31 00:57:48,133 [INFO] 8800 ../../od-masks-dataset/od-masks-dev\\test_00002184.jpg\n"
     ]
    },
    {
     "name": "stdout",
     "output_type": "stream",
     "text": [
      "0.01759154397885995\n"
     ]
    }
   ],
   "source": [
    "print(compute_map_from_dataset(data_path, model, iou_threshold=0.5, verbose=1))"
   ]
  },
  {
   "cell_type": "code",
   "execution_count": 8,
   "metadata": {},
   "outputs": [
    {
     "name": "stdout",
     "output_type": "stream",
     "text": [
      "WARNING:tensorflow:No training configuration found in the save file, so the model was *not* compiled. Compile it manually.\n"
     ]
    },
    {
     "name": "stderr",
     "output_type": "stream",
     "text": [
      "2020-05-31 21:26:10,209 [WARNING] No training configuration found in the save file, so the model was *not* compiled. Compile it manually.\n",
      "2020-05-31 21:26:10,238 [INFO] 0 ../../od-masks-dataset/od-masks-dev\\AboA_00274_m_33_i_fr_nc_no_2016_2_e0_nl_o.jpg\n",
      "2020-05-31 21:26:15,800 [INFO] 100 ../../od-masks-dataset/od-masks-dev\\AboA_00280_m_33_i_fr_nc_sr_2016_2_e0_Gn_m.jpg\n",
      "2020-05-31 21:26:21,044 [INFO] 200 ../../od-masks-dataset/od-masks-dev\\AboA_00286_m_33_i_fr_nc_sr_2016_2_e0_Gn_e.jpg\n",
      "2020-05-31 21:26:26,382 [INFO] 300 ../../od-masks-dataset/od-masks-dev\\AheG_00290_m_23_i_nf_nc_no_2008_1_e0_Ps_m.jpg\n",
      "2020-05-31 21:26:31,563 [INFO] 400 ../../od-masks-dataset/od-masks-dev\\AheG_00293_m_31_o_fr_nc_no_2016_1_en_nl_m.jpg\n",
      "2020-05-31 21:26:37,209 [INFO] 500 ../../od-masks-dataset/od-masks-dev\\AhmA_00297_m_56_o_fr_nc_no_2014_1_e0_Ps_e.jpg\n",
      "2020-05-31 21:26:42,644 [INFO] 600 ../../od-masks-dataset/od-masks-dev\\AhmA_00300_m_57_o_nf_nc_no_2015_1_e0_Ps_m.jpg\n",
      "2020-05-31 21:26:47,860 [INFO] 700 ../../od-masks-dataset/od-masks-dev\\AhmB_00303_m_28_i_nf_nc_sd_2015_1_em_nl_h.jpg\n",
      "2020-05-31 21:26:53,429 [INFO] 800 ../../od-masks-dataset/od-masks-dev\\AhmB_00306_m_29_i_nf_nc_no_2016_1_en_nl_e.jpg\n",
      "2020-05-31 21:26:59,196 [INFO] 900 ../../od-masks-dataset/od-masks-dev\\AhmB_00309_m_29_i_nf_nc_hp_2016_1_en_nl_m.jpg\n",
      "2020-05-31 21:27:04,707 [INFO] 1000 ../../od-masks-dataset/od-masks-dev\\AhmE_00313_m_24_o_nf_nc_no_2012_1_e0_Gn_h.jpg\n",
      "2020-05-31 21:27:10,291 [INFO] 1100 ../../od-masks-dataset/od-masks-dev\\AhmG_00316_m_19_i_fr_nc_no_2015_1_e0_Gs_e.jpg\n",
      "2020-05-31 21:27:16,083 [INFO] 1200 ../../od-masks-dataset/od-masks-dev\\AhmG_00319_m_19_o_fr_nc_no_2015_1_e0_Gs_m.jpg\n",
      "2020-05-31 21:27:21,622 [INFO] 1300 ../../od-masks-dataset/od-masks-dev\\AhmG_00322_m_19_i_fr_nc_no_2015_1_e0_Ps_e.jpg\n",
      "2020-05-31 21:27:27,599 [INFO] 1400 ../../od-masks-dataset/od-masks-dev\\AhmH_00325_m_19_i_nf_nc_no_2015_1_e0_Ps_m.jpg\n",
      "2020-05-31 21:27:33,445 [INFO] 1500 ../../od-masks-dataset/od-masks-dev\\AhmI_00329_m_24_i_nf_nc_no_2013_1_e0_Gn_m.jpg\n",
      "2020-05-31 21:27:39,143 [INFO] 1600 ../../od-masks-dataset/od-masks-dev\\AhmK_00332_m_25_o_fr_nc_hp_2013_1_e0_Gs_h.jpg\n",
      "2020-05-31 21:27:45,870 [INFO] 1700 ../../od-masks-dataset/od-masks-dev\\AhmM_00335_m_19_i_fr_nc_no_2015_1_e0_nl_o.jpg\n",
      "2020-05-31 21:27:52,666 [INFO] 1800 ../../od-masks-dataset/od-masks-dev\\AhmM_00338_m_19_i_fr_nc_no_2015_1_e0_Ps_h.jpg\n",
      "2020-05-31 21:27:59,414 [INFO] 1900 ../../od-masks-dataset/od-masks-dev\\AhmM_00341_m_19_o_nf_nc_no_2015_1_em_nl_m.jpg\n",
      "2020-05-31 21:28:05,995 [INFO] 2000 ../../od-masks-dataset/od-masks-dev\\AhmN_00346_m_27_o_fr_nc_no_2010_1_e0_Gs_h.jpg\n",
      "2020-05-31 21:28:12,619 [INFO] 2100 ../../od-masks-dataset/od-masks-dev\\AhmN_00349_m_27_o_nf_nc_no_2010_1_e0_Ps_h.jpg\n",
      "2020-05-31 21:28:19,455 [INFO] 2200 ../../od-masks-dataset/od-masks-dev\\AhmS_00352_m_20_o_nf_nc_hp_2015_1_em_nl_e.jpg\n",
      "2020-05-31 21:28:26,874 [INFO] 2300 ../../od-masks-dataset/od-masks-dev\\AhmS_00355_m_20_i_fr_nc_no_2015_1_em_nl_m.jpg\n",
      "2020-05-31 21:28:34,333 [INFO] 2400 ../../od-masks-dataset/od-masks-dev\\AhmZ_00358_m_21_i_fr_nc_no_2015_1_en_nl_h.jpg\n",
      "2020-05-31 21:28:41,198 [INFO] 2500 ../../od-masks-dataset/od-masks-dev\\AhmZ_00362_m_21_i_fr_nc_no_2015_1_e0_Gn_m.jpg\n",
      "2020-05-31 21:28:47,831 [INFO] 2600 ../../od-masks-dataset/od-masks-dev\\AhmZ_00365_m_21_i_fr_nc_no_2015_1_e0_Gs_m.jpg\n",
      "2020-05-31 21:28:54,764 [INFO] 2700 ../../od-masks-dataset/od-masks-dev\\AlaG_00370_m_32_i_nf_nc_no_2016_2_e0_Ps_e.jpg\n",
      "2020-05-31 21:29:01,774 [INFO] 2800 ../../od-masks-dataset/od-masks-dev\\AlaG_00374_m_32_i_fr_nc_hp_2016_2_e0_nl_o.jpg\n",
      "2020-05-31 21:29:08,553 [INFO] 2900 ../../od-masks-dataset/od-masks-dev\\AlaG_00379_m_32_i_fr_nc_hp_2016_2_em_nl_e.jpg\n",
      "2020-05-31 21:29:15,278 [INFO] 3000 ../../od-masks-dataset/od-masks-dev\\AlaG_00384_m_32_i_fr_nc_sr_2016_2_e0_Gs_e.jpg\n",
      "2020-05-31 21:29:22,157 [INFO] 3100 ../../od-masks-dataset/od-masks-dev\\AlaG_00388_m_32_i_fr_nc_sr_2016_2_em_nl_m.jpg\n",
      "2020-05-31 21:29:28,907 [INFO] 3200 ../../od-masks-dataset/od-masks-dev\\AlaG_00393_m_32_i_nf_nc_hp_2016_2_e0_Gn_m.jpg\n",
      "2020-05-31 21:29:35,622 [INFO] 3300 ../../od-masks-dataset/od-masks-dev\\AlaG_00397_m_32_i_nf_nc_no_2016_2_en_nl_e.jpg\n",
      "2020-05-31 21:29:42,186 [INFO] 3400 ../../od-masks-dataset/od-masks-dev\\AlaG_00401_m_32_i_fr_nc_no_2016_2_en_nl_e.jpg\n",
      "2020-05-31 21:29:49,020 [INFO] 3500 ../../od-masks-dataset/od-masks-dev\\AlaG_00406_m_32_i_fr_nc_no_2016_2_e0_Gn_h.jpg\n",
      "2020-05-31 21:29:55,568 [INFO] 3600 ../../od-masks-dataset/od-masks-dev\\AlaG_00409_m_32_i_fr_nc_no_2016_2_e0_Gs_h.jpg\n",
      "2020-05-31 21:30:01,808 [INFO] 3700 ../../od-masks-dataset/od-masks-dev\\AlaG_00413_m_32_i_fr_nc_no_2016_2_e0_Gs_e.jpg\n",
      "2020-05-31 21:30:08,353 [INFO] 3800 ../../od-masks-dataset/od-masks-dev\\AlaG_00417_m_32_i_fr_nc_hp_2016_2_e0_Gs_m.jpg\n",
      "2020-05-31 21:30:15,055 [INFO] 3900 ../../od-masks-dataset/od-masks-dev\\AlaG_00420_m_32_i_fr_nc_hp_2016_2_em_nl_h.jpg\n",
      "2020-05-31 21:30:21,509 [INFO] 4000 ../../od-masks-dataset/od-masks-dev\\AlaG_00424_m_32_i_fr_nc_hp_2016_2_en_nl_m.jpg\n",
      "2020-05-31 21:30:27,846 [INFO] 4100 ../../od-masks-dataset/od-masks-dev\\AlaG_00429_m_32_i_fr_nc_sr_2016_2_e0_Gs_h.jpg\n",
      "2020-05-31 21:30:34,500 [INFO] 4200 ../../od-masks-dataset/od-masks-dev\\AlaG_00433_m_32_i_fr_nc_sr_2016_2_e0_Gn_h.jpg\n",
      "2020-05-31 21:30:41,123 [INFO] 4300 ../../od-masks-dataset/od-masks-dev\\AlaG_00436_m_32_i_fr_nc_no_2016_2_em_nl_e.jpg\n",
      "2020-05-31 21:30:47,637 [INFO] 4400 ../../od-masks-dataset/od-masks-dev\\AlaG_00440_m_32_i_nf_nc_no_2016_2_em_nl_e.jpg\n",
      "2020-05-31 21:30:54,868 [INFO] 4500 ../../od-masks-dataset/od-masks-dev\\test_00000034.jpg\n",
      "2020-05-31 21:31:01,912 [INFO] 4600 ../../od-masks-dataset/od-masks-dev\\test_00000084.jpg\n",
      "2020-05-31 21:31:08,776 [INFO] 4700 ../../od-masks-dataset/od-masks-dev\\test_00000134.jpg\n",
      "2020-05-31 21:31:15,410 [INFO] 4800 ../../od-masks-dataset/od-masks-dev\\test_00000184.jpg\n",
      "2020-05-31 21:31:21,665 [INFO] 4900 ../../od-masks-dataset/od-masks-dev\\test_00000234.jpg\n",
      "2020-05-31 21:31:27,827 [INFO] 5000 ../../od-masks-dataset/od-masks-dev\\test_00000284.jpg\n",
      "2020-05-31 21:31:34,191 [INFO] 5100 ../../od-masks-dataset/od-masks-dev\\test_00000334.jpg\n",
      "2020-05-31 21:31:40,087 [INFO] 5200 ../../od-masks-dataset/od-masks-dev\\test_00000384.jpg\n",
      "2020-05-31 21:31:46,503 [INFO] 5300 ../../od-masks-dataset/od-masks-dev\\test_00000434.jpg\n",
      "2020-05-31 21:31:53,274 [INFO] 5400 ../../od-masks-dataset/od-masks-dev\\test_00000484.jpg\n",
      "2020-05-31 21:32:00,276 [INFO] 5500 ../../od-masks-dataset/od-masks-dev\\test_00000534.jpg\n",
      "2020-05-31 21:32:07,029 [INFO] 5600 ../../od-masks-dataset/od-masks-dev\\test_00000584.jpg\n",
      "2020-05-31 21:32:14,013 [INFO] 5700 ../../od-masks-dataset/od-masks-dev\\test_00000634.jpg\n",
      "2020-05-31 21:32:20,642 [INFO] 5800 ../../od-masks-dataset/od-masks-dev\\test_00000684.jpg\n",
      "2020-05-31 21:32:27,719 [INFO] 5900 ../../od-masks-dataset/od-masks-dev\\test_00000734.jpg\n",
      "2020-05-31 21:32:34,614 [INFO] 6000 ../../od-masks-dataset/od-masks-dev\\test_00000784.jpg\n",
      "2020-05-31 21:32:41,400 [INFO] 6100 ../../od-masks-dataset/od-masks-dev\\test_00000834.jpg\n",
      "2020-05-31 21:32:48,320 [INFO] 6200 ../../od-masks-dataset/od-masks-dev\\test_00000884.jpg\n",
      "2020-05-31 21:32:54,721 [INFO] 6300 ../../od-masks-dataset/od-masks-dev\\test_00000934.jpg\n",
      "2020-05-31 21:33:01,542 [INFO] 6400 ../../od-masks-dataset/od-masks-dev\\test_00000984.jpg\n",
      "2020-05-31 21:33:07,888 [INFO] 6500 ../../od-masks-dataset/od-masks-dev\\test_00001034.jpg\n",
      "2020-05-31 21:33:14,380 [INFO] 6600 ../../od-masks-dataset/od-masks-dev\\test_00001084.jpg\n",
      "2020-05-31 21:33:21,212 [INFO] 6700 ../../od-masks-dataset/od-masks-dev\\test_00001134.jpg\n",
      "2020-05-31 21:33:28,314 [INFO] 6800 ../../od-masks-dataset/od-masks-dev\\test_00001184.jpg\n",
      "2020-05-31 21:33:36,164 [INFO] 6900 ../../od-masks-dataset/od-masks-dev\\test_00001234.jpg\n",
      "2020-05-31 21:33:43,266 [INFO] 7000 ../../od-masks-dataset/od-masks-dev\\test_00001284.jpg\n",
      "2020-05-31 21:33:50,118 [INFO] 7100 ../../od-masks-dataset/od-masks-dev\\test_00001334.jpg\n",
      "2020-05-31 21:33:57,239 [INFO] 7200 ../../od-masks-dataset/od-masks-dev\\test_00001384.jpg\n",
      "2020-05-31 21:34:03,936 [INFO] 7300 ../../od-masks-dataset/od-masks-dev\\test_00001434.jpg\n",
      "2020-05-31 21:34:10,643 [INFO] 7400 ../../od-masks-dataset/od-masks-dev\\test_00001484.jpg\n",
      "2020-05-31 21:34:17,205 [INFO] 7500 ../../od-masks-dataset/od-masks-dev\\test_00001534.jpg\n"
     ]
    },
    {
     "name": "stderr",
     "output_type": "stream",
     "text": [
      "2020-05-31 21:34:24,051 [INFO] 7600 ../../od-masks-dataset/od-masks-dev\\test_00001584.jpg\n",
      "2020-05-31 21:34:30,370 [INFO] 7700 ../../od-masks-dataset/od-masks-dev\\test_00001634.jpg\n",
      "2020-05-31 21:34:36,952 [INFO] 7800 ../../od-masks-dataset/od-masks-dev\\test_00001684.jpg\n",
      "2020-05-31 21:34:43,933 [INFO] 7900 ../../od-masks-dataset/od-masks-dev\\test_00001734.jpg\n",
      "2020-05-31 21:34:50,782 [INFO] 8000 ../../od-masks-dataset/od-masks-dev\\test_00001784.jpg\n",
      "2020-05-31 21:34:57,335 [INFO] 8100 ../../od-masks-dataset/od-masks-dev\\test_00001834.jpg\n",
      "2020-05-31 21:35:04,076 [INFO] 8200 ../../od-masks-dataset/od-masks-dev\\test_00001884.jpg\n",
      "2020-05-31 21:35:10,880 [INFO] 8300 ../../od-masks-dataset/od-masks-dev\\test_00001934.jpg\n",
      "2020-05-31 21:35:17,476 [INFO] 8400 ../../od-masks-dataset/od-masks-dev\\test_00001984.jpg\n",
      "2020-05-31 21:35:24,637 [INFO] 8500 ../../od-masks-dataset/od-masks-dev\\test_00002034.jpg\n",
      "2020-05-31 21:35:31,453 [INFO] 8600 ../../od-masks-dataset/od-masks-dev\\test_00002084.jpg\n",
      "2020-05-31 21:35:37,975 [INFO] 8700 ../../od-masks-dataset/od-masks-dev\\test_00002134.jpg\n",
      "2020-05-31 21:35:45,190 [INFO] 8800 ../../od-masks-dataset/od-masks-dev\\test_00002184.jpg\n"
     ]
    },
    {
     "name": "stdout",
     "output_type": "stream",
     "text": [
      "0.054820687051717644\n"
     ]
    }
   ],
   "source": [
    "from detect.detectors import yolov2_simple_cnn\n",
    "\n",
    "yolo_weights = '../../YoloKerasFaceDetection/pretrain/yolov2_tiny-face.h5'\n",
    "model = yolov2_simple_cnn(weights_path, yolo_weights, object_detector_confidence=0.8)\n",
    "print(compute_map_from_dataset(data_path, model, iou_threshold=0.5, verbose=1))"
   ]
  },
  {
   "cell_type": "code",
   "execution_count": null,
   "metadata": {},
   "outputs": [],
   "source": []
  }
 ],
 "metadata": {
  "kernelspec": {
   "display_name": "Python 3",
   "language": "python",
   "name": "python3"
  },
  "language_info": {
   "codemirror_mode": {
    "name": "ipython",
    "version": 3
   },
   "file_extension": ".py",
   "mimetype": "text/x-python",
   "name": "python",
   "nbconvert_exporter": "python",
   "pygments_lexer": "ipython3",
   "version": "3.8.3"
  }
 },
 "nbformat": 4,
 "nbformat_minor": 4
}
