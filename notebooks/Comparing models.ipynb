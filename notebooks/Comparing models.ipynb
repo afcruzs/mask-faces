{
 "cells": [
  {
   "cell_type": "code",
   "execution_count": 1,
   "metadata": {},
   "outputs": [
    {
     "name": "stderr",
     "output_type": "stream",
     "text": [
      "Using TensorFlow backend.\n"
     ]
    }
   ],
   "source": [
    "%load_ext autoreload\n",
    "%autoreload 2\n",
    "\n",
    "import sys\n",
    "sys.path.append(\"..\") # Adds higher directory to python modules path.\n",
    "\n",
    "from detect.detectors import mtcnn_simple_cnn\n",
    "from detect.compute_map import compute_map_from_dataset"
   ]
  },
  {
   "cell_type": "code",
   "execution_count": 2,
   "metadata": {},
   "outputs": [],
   "source": [
    "weights_path = '../weights/model-best.h5'\n",
    "masks_detector = mtcnn_simple_cnn(weights_path, object_detector_confidence=0.8)\n",
    "data_path = '../../od-masks-dataset/od-masks-dev'"
   ]
  },
  {
   "cell_type": "code",
   "execution_count": 11,
   "metadata": {},
   "outputs": [
    {
     "name": "stderr",
     "output_type": "stream",
     "text": [
      "2020-05-27 23:36:36,575 [INFO] 0 ../../od-masks-dataset/od-masks-dev\\test_00000001.jpg\n",
      "2020-05-27 23:36:48,035 [INFO] 100 ../../od-masks-dataset/od-masks-dev\\test_00000051.jpg\n",
      "2020-05-27 23:37:03,306 [INFO] 200 ../../od-masks-dataset/od-masks-dev\\test_00000101.jpg\n",
      "2020-05-27 23:37:11,362 [INFO] 300 ../../od-masks-dataset/od-masks-dev\\test_00000151.jpg\n",
      "2020-05-27 23:37:18,157 [INFO] 400 ../../od-masks-dataset/od-masks-dev\\test_00000201.jpg\n",
      "2020-05-27 23:37:26,471 [INFO] 500 ../../od-masks-dataset/od-masks-dev\\test_00000251.jpg\n",
      "2020-05-27 23:37:34,071 [INFO] 600 ../../od-masks-dataset/od-masks-dev\\test_00000301.jpg\n",
      "2020-05-27 23:37:41,977 [INFO] 700 ../../od-masks-dataset/od-masks-dev\\test_00000351.jpg\n",
      "2020-05-27 23:37:49,611 [INFO] 800 ../../od-masks-dataset/od-masks-dev\\test_00000401.jpg\n",
      "2020-05-27 23:38:06,699 [INFO] 900 ../../od-masks-dataset/od-masks-dev\\test_00000451.jpg\n",
      "2020-05-27 23:38:27,907 [INFO] 1000 ../../od-masks-dataset/od-masks-dev\\test_00000501.jpg\n",
      "2020-05-27 23:38:54,109 [INFO] 1100 ../../od-masks-dataset/od-masks-dev\\test_00000551.jpg\n",
      "2020-05-27 23:39:11,178 [INFO] 1200 ../../od-masks-dataset/od-masks-dev\\test_00000601.jpg\n",
      "2020-05-27 23:39:37,550 [INFO] 1300 ../../od-masks-dataset/od-masks-dev\\test_00000651.jpg\n",
      "2020-05-27 23:40:06,039 [INFO] 1400 ../../od-masks-dataset/od-masks-dev\\test_00000701.jpg\n",
      "2020-05-27 23:40:44,998 [INFO] 1500 ../../od-masks-dataset/od-masks-dev\\test_00000751.jpg\n",
      "2020-05-27 23:41:18,478 [INFO] 1600 ../../od-masks-dataset/od-masks-dev\\test_00000801.jpg\n",
      "2020-05-27 23:41:51,017 [INFO] 1700 ../../od-masks-dataset/od-masks-dev\\test_00000851.jpg\n",
      "2020-05-27 23:42:22,154 [INFO] 1800 ../../od-masks-dataset/od-masks-dev\\test_00000901.jpg\n",
      "2020-05-27 23:42:47,333 [INFO] 1900 ../../od-masks-dataset/od-masks-dev\\test_00000951.jpg\n",
      "2020-05-27 23:43:11,259 [INFO] 2000 ../../od-masks-dataset/od-masks-dev\\test_00001001.jpg\n",
      "2020-05-27 23:43:35,450 [INFO] 2100 ../../od-masks-dataset/od-masks-dev\\test_00001051.jpg\n",
      "2020-05-27 23:44:01,408 [INFO] 2200 ../../od-masks-dataset/od-masks-dev\\test_00001101.jpg\n",
      "2020-05-27 23:44:23,681 [INFO] 2300 ../../od-masks-dataset/od-masks-dev\\test_00001151.jpg\n",
      "2020-05-27 23:44:58,516 [INFO] 2400 ../../od-masks-dataset/od-masks-dev\\test_00001201.jpg\n",
      "2020-05-27 23:45:32,971 [INFO] 2500 ../../od-masks-dataset/od-masks-dev\\test_00001251.jpg\n",
      "2020-05-27 23:46:01,191 [INFO] 2600 ../../od-masks-dataset/od-masks-dev\\test_00001301.jpg\n",
      "2020-05-27 23:46:29,633 [INFO] 2700 ../../od-masks-dataset/od-masks-dev\\test_00001351.jpg\n",
      "2020-05-27 23:46:52,046 [INFO] 2800 ../../od-masks-dataset/od-masks-dev\\test_00001401.jpg\n",
      "2020-05-27 23:47:16,466 [INFO] 2900 ../../od-masks-dataset/od-masks-dev\\test_00001451.jpg\n",
      "2020-05-27 23:47:37,277 [INFO] 3000 ../../od-masks-dataset/od-masks-dev\\test_00001501.jpg\n",
      "2020-05-27 23:47:59,371 [INFO] 3100 ../../od-masks-dataset/od-masks-dev\\test_00001551.jpg\n",
      "2020-05-27 23:48:18,770 [INFO] 3200 ../../od-masks-dataset/od-masks-dev\\test_00001601.jpg\n",
      "2020-05-27 23:48:38,123 [INFO] 3300 ../../od-masks-dataset/od-masks-dev\\test_00001651.jpg\n",
      "2020-05-27 23:48:57,213 [INFO] 3400 ../../od-masks-dataset/od-masks-dev\\test_00001701.jpg\n",
      "2020-05-27 23:49:18,076 [INFO] 3500 ../../od-masks-dataset/od-masks-dev\\test_00001751.jpg\n",
      "2020-05-27 23:49:40,864 [INFO] 3600 ../../od-masks-dataset/od-masks-dev\\test_00001801.jpg\n",
      "2020-05-27 23:50:04,568 [INFO] 3700 ../../od-masks-dataset/od-masks-dev\\test_00001851.jpg\n",
      "2020-05-27 23:50:19,586 [INFO] 3800 ../../od-masks-dataset/od-masks-dev\\test_00001901.jpg\n",
      "2020-05-27 23:50:38,537 [INFO] 3900 ../../od-masks-dataset/od-masks-dev\\test_00001951.jpg\n",
      "2020-05-27 23:50:59,541 [INFO] 4000 ../../od-masks-dataset/od-masks-dev\\test_00002001.jpg\n",
      "2020-05-27 23:51:19,906 [INFO] 4100 ../../od-masks-dataset/od-masks-dev\\test_00002051.jpg\n",
      "2020-05-27 23:51:39,801 [INFO] 4200 ../../od-masks-dataset/od-masks-dev\\test_00002101.jpg\n",
      "2020-05-27 23:52:00,754 [INFO] 4300 ../../od-masks-dataset/od-masks-dev\\test_00002151.jpg\n"
     ]
    },
    {
     "name": "stdout",
     "output_type": "stream",
     "text": [
      "0.44303343043129906\n"
     ]
    }
   ],
   "source": [
    "print(compute_map_from_dataset(data_path, masks_detector, iou_threshold=0.5, verbose=1))"
   ]
  },
  {
   "cell_type": "code",
   "execution_count": null,
   "metadata": {},
   "outputs": [],
   "source": []
  }
 ],
 "metadata": {
  "kernelspec": {
   "display_name": "Python 3",
   "language": "python",
   "name": "python3"
  },
  "language_info": {
   "codemirror_mode": {
    "name": "ipython",
    "version": 3
   },
   "file_extension": ".py",
   "mimetype": "text/x-python",
   "name": "python",
   "nbconvert_exporter": "python",
   "pygments_lexer": "ipython3",
   "version": "3.7.7"
  }
 },
 "nbformat": 4,
 "nbformat_minor": 4
}
